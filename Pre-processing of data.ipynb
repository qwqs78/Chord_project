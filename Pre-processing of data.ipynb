{
  "nbformat": 4,
  "nbformat_minor": 0,
  "metadata": {
    "colab": {
      "provenance": []
    },
    "kernelspec": {
      "name": "python3",
      "display_name": "Python 3"
    },
    "language_info": {
      "name": "python"
    }
  },
  "cells": [
    {
      "cell_type": "markdown",
      "source": [
        "# 음원 파일을 비트단위로 나누는 것이 매우 어려운 상황이었습니다.\n",
        "- 비트 단위로 나누는 대신 1초단위, 그리고 나머지 3초는 공백 데이터를 붙여서 모델이 수용할 수 있는 입력길이인 4초를 맞추기 위해서 한 음원파일을 1초씩, 총 4초에 한 데이터로 묶었습니다.\n"
      ],
      "metadata": {
        "id": "g8hIfG8-Ccdk"
      }
    },
    {
      "cell_type": "code",
      "execution_count": null,
      "metadata": {
        "colab": {
          "base_uri": "https://localhost:8080/"
        },
        "id": "ww9Q9jrZMbX9",
        "outputId": "71573138-0268-42f7-b6a9-7b260e01c7a0"
      },
      "outputs": [
        {
          "output_type": "stream",
          "name": "stdout",
          "text": [
            "Requirement already satisfied: librosa in /usr/local/lib/python3.10/dist-packages (0.10.1)\n",
            "Requirement already satisfied: audioread>=2.1.9 in /usr/local/lib/python3.10/dist-packages (from librosa) (3.0.1)\n",
            "Requirement already satisfied: numpy!=1.22.0,!=1.22.1,!=1.22.2,>=1.20.3 in /usr/local/lib/python3.10/dist-packages (from librosa) (1.23.5)\n",
            "Requirement already satisfied: scipy>=1.2.0 in /usr/local/lib/python3.10/dist-packages (from librosa) (1.11.4)\n",
            "Requirement already satisfied: scikit-learn>=0.20.0 in /usr/local/lib/python3.10/dist-packages (from librosa) (1.2.2)\n",
            "Requirement already satisfied: joblib>=0.14 in /usr/local/lib/python3.10/dist-packages (from librosa) (1.3.2)\n",
            "Requirement already satisfied: decorator>=4.3.0 in /usr/local/lib/python3.10/dist-packages (from librosa) (4.4.2)\n",
            "Requirement already satisfied: numba>=0.51.0 in /usr/local/lib/python3.10/dist-packages (from librosa) (0.58.1)\n",
            "Requirement already satisfied: soundfile>=0.12.1 in /usr/local/lib/python3.10/dist-packages (from librosa) (0.12.1)\n",
            "Requirement already satisfied: pooch>=1.0 in /usr/local/lib/python3.10/dist-packages (from librosa) (1.8.0)\n",
            "Requirement already satisfied: soxr>=0.3.2 in /usr/local/lib/python3.10/dist-packages (from librosa) (0.3.7)\n",
            "Requirement already satisfied: typing-extensions>=4.1.1 in /usr/local/lib/python3.10/dist-packages (from librosa) (4.5.0)\n",
            "Requirement already satisfied: lazy-loader>=0.1 in /usr/local/lib/python3.10/dist-packages (from librosa) (0.3)\n",
            "Requirement already satisfied: msgpack>=1.0 in /usr/local/lib/python3.10/dist-packages (from librosa) (1.0.7)\n",
            "Requirement already satisfied: llvmlite<0.42,>=0.41.0dev0 in /usr/local/lib/python3.10/dist-packages (from numba>=0.51.0->librosa) (0.41.1)\n",
            "Requirement already satisfied: platformdirs>=2.5.0 in /usr/local/lib/python3.10/dist-packages (from pooch>=1.0->librosa) (4.0.0)\n",
            "Requirement already satisfied: packaging>=20.0 in /usr/local/lib/python3.10/dist-packages (from pooch>=1.0->librosa) (23.2)\n",
            "Requirement already satisfied: requests>=2.19.0 in /usr/local/lib/python3.10/dist-packages (from pooch>=1.0->librosa) (2.31.0)\n",
            "Requirement already satisfied: threadpoolctl>=2.0.0 in /usr/local/lib/python3.10/dist-packages (from scikit-learn>=0.20.0->librosa) (3.2.0)\n",
            "Requirement already satisfied: cffi>=1.0 in /usr/local/lib/python3.10/dist-packages (from soundfile>=0.12.1->librosa) (1.16.0)\n",
            "Requirement already satisfied: pycparser in /usr/local/lib/python3.10/dist-packages (from cffi>=1.0->soundfile>=0.12.1->librosa) (2.21)\n",
            "Requirement already satisfied: charset-normalizer<4,>=2 in /usr/local/lib/python3.10/dist-packages (from requests>=2.19.0->pooch>=1.0->librosa) (3.3.2)\n",
            "Requirement already satisfied: idna<4,>=2.5 in /usr/local/lib/python3.10/dist-packages (from requests>=2.19.0->pooch>=1.0->librosa) (3.6)\n",
            "Requirement already satisfied: urllib3<3,>=1.21.1 in /usr/local/lib/python3.10/dist-packages (from requests>=2.19.0->pooch>=1.0->librosa) (2.0.7)\n",
            "Requirement already satisfied: certifi>=2017.4.17 in /usr/local/lib/python3.10/dist-packages (from requests>=2.19.0->pooch>=1.0->librosa) (2023.11.17)\n"
          ]
        }
      ],
      "source": [
        "!pip install librosa\n"
      ]
    },
    {
      "cell_type": "code",
      "source": [
        "pip install SoundFile"
      ],
      "metadata": {
        "colab": {
          "base_uri": "https://localhost:8080/"
        },
        "id": "jkQXq6agVizh",
        "outputId": "b9be22fb-63aa-49ef-bc10-b8521f57de4c"
      },
      "execution_count": null,
      "outputs": [
        {
          "output_type": "stream",
          "name": "stdout",
          "text": [
            "Requirement already satisfied: SoundFile in /usr/local/lib/python3.10/dist-packages (0.12.1)\n",
            "Requirement already satisfied: cffi>=1.0 in /usr/local/lib/python3.10/dist-packages (from SoundFile) (1.16.0)\n",
            "Requirement already satisfied: pycparser in /usr/local/lib/python3.10/dist-packages (from cffi>=1.0->SoundFile) (2.21)\n",
            "\u001b[31mERROR: Operation cancelled by user\u001b[0m\u001b[31m\n",
            "\u001b[0m"
          ]
        }
      ]
    },
    {
      "cell_type": "code",
      "source": [
        "from google.colab import drive\n",
        "drive.mount('/content/drive')\n"
      ],
      "metadata": {
        "colab": {
          "base_uri": "https://localhost:8080/"
        },
        "id": "_NmI65hoMgph",
        "outputId": "6f8c01f9-1791-4b73-9515-841f82c358dd"
      },
      "execution_count": null,
      "outputs": [
        {
          "output_type": "stream",
          "name": "stdout",
          "text": [
            "Mounted at /content/drive\n"
          ]
        }
      ]
    },
    {
      "cell_type": "code",
      "source": [
        "import librosa\n",
        "import numpy as np\n",
        "import os\n",
        "import soundfile as sf"
      ],
      "metadata": {
        "id": "AaNQQiW_Pb0T"
      },
      "execution_count": null,
      "outputs": []
    },
    {
      "cell_type": "code",
      "source": [
        "def create_dummy_wav(input_wav_path, output_wav_path, dummy_duration=3):\n",
        "    # 음원 로드\n",
        "    y, sr = librosa.load(input_wav_path, sr=None)\n",
        "\n",
        "    # 1초 단위로 쪼갤 구간 길이\n",
        "    segment_length = 1\n",
        "\n",
        "    # 3초의 더미 데이터 생성\n",
        "    dummy_data = np.zeros(int(sr * dummy_duration))\n",
        "\n",
        "    # 결과를 저장할 디렉토리 생성\n",
        "    os.makedirs(os.path.dirname(output_wav_path), exist_ok=True)\n",
        "\n",
        "    # 음원을 1초 단위로 나누고 3초 더미 데이터를 붙여서 파일 생성\n",
        "    for i, start_sample in enumerate(range(0, len(y), segment_length * sr)):\n",
        "        end_sample = start_sample + segment_length * sr\n",
        "        segment = y[start_sample:end_sample]\n",
        "\n",
        "        # 3초 더미 데이터를 뒤에 붙이기\n",
        "        extended_audio = np.concatenate([segment, dummy_data])\n",
        "\n",
        "        # 파일로 저장\n",
        "        sf.write(output_wav_path.format(i + 1), extended_audio, sr)\n",
        "\n",
        "    print(\"작업 완료. 생성된 파일은\", os.path.dirname(output_wav_path), \"에 저장되었습니다.\")\n",
        "\n",
        "# 음원 파일 경로 설정\n",
        "input_wav_path = '/content/drive/MyDrive/project/for_test/forest.wav'\n",
        "\n",
        "# 결과를 저장할 디렉토리 및 파일 포맷 설정\n",
        "output_directory = '/content/drive/MyDrive/project/forest_div'\n",
        "output_wav_format = os.path.join(output_directory, 'segment_{}.wav')\n",
        "\n",
        "\n",
        "# create_dummy_wav 함수 호출\n",
        "create_dummy_wav(input_wav_path, output_wav_format)\n"
      ],
      "metadata": {
        "colab": {
          "base_uri": "https://localhost:8080/"
        },
        "id": "7gNAbKGxXCW7",
        "outputId": "c5dd216b-4cab-42f6-a799-0689023171b2"
      },
      "execution_count": null,
      "outputs": [
        {
          "output_type": "stream",
          "name": "stderr",
          "text": [
            "<ipython-input-10-63f1fdca6b31>:3: UserWarning: PySoundFile failed. Trying audioread instead.\n",
            "  y, sr = librosa.load(input_wav_path, sr=None)\n",
            "/usr/local/lib/python3.10/dist-packages/librosa/core/audio.py:183: FutureWarning: librosa.core.audio.__audioread_load\n",
            "\tDeprecated as of librosa version 0.10.0.\n",
            "\tIt will be removed in librosa version 1.0.\n",
            "  y, sr_native = __audioread_load(path, offset, duration, dtype)\n"
          ]
        },
        {
          "output_type": "stream",
          "name": "stdout",
          "text": [
            "작업 완료. 생성된 파일은 /content/drive/MyDrive/project/forest_div 에 저장되었습니다.\n"
          ]
        }
      ]
    },
    {
      "cell_type": "code",
      "source": [
        "# 기존에 저장된 파일들 삭제\n",
        "existing_files = os.listdir(output_directory)\n",
        "for existing_file in existing_files:\n",
        "    file_path = os.path.join(output_directory, existing_file)\n",
        "    os.remove(file_path)"
      ],
      "metadata": {
        "id": "3jJ5vwmoP71C"
      },
      "execution_count": null,
      "outputs": []
    },
    {
      "cell_type": "code",
      "source": [
        "pip show numba"
      ],
      "metadata": {
        "colab": {
          "base_uri": "https://localhost:8080/"
        },
        "id": "tbyeYBkoFxEC",
        "outputId": "28717451-e10b-4184-963d-9b87db5ae168"
      },
      "execution_count": null,
      "outputs": [
        {
          "output_type": "stream",
          "name": "stdout",
          "text": [
            "Name: numba\n",
            "Version: 0.58.1\n",
            "Summary: compiling Python code using LLVM\n",
            "Home-page: https://numba.pydata.org\n",
            "Author: \n",
            "Author-email: \n",
            "License: BSD\n",
            "Location: /usr/local/lib/python3.10/dist-packages\n",
            "Requires: llvmlite, numpy\n",
            "Required-by: librosa\n"
          ]
        }
      ]
    }
  ]
}