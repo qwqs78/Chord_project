{
  "nbformat": 4,
  "nbformat_minor": 0,
  "metadata": {
    "colab": {
      "provenance": [],
      "gpuType": "T4"
    },
    "kernelspec": {
      "name": "python3",
      "display_name": "Python 3"
    },
    "language_info": {
      "name": "python"
    },
    "accelerator": "GPU"
  },
  "cells": [
    {
      "cell_type": "markdown",
      "source": [
        "# Tensorflow Magenta 에서 얻은 피아노의 스케일 데이터\n",
        "- 하나하나 드라이브 디렉토리에 저장하여 전부 크로마그램으로 변환한 후, csv 파일에 저장하게끔 하는 코드입니다."
      ],
      "metadata": {
        "id": "40pN-5HD3928"
      }
    },
    {
      "cell_type": "code",
      "execution_count": null,
      "metadata": {
        "colab": {
          "base_uri": "https://localhost:8080/"
        },
        "id": "OhrlG4Gg54GN",
        "outputId": "e6dc5d3d-a1e3-476a-f3b4-b0207fed9e03"
      },
      "outputs": [
        {
          "output_type": "stream",
          "name": "stdout",
          "text": [
            "Mounted at /content/drive\n"
          ]
        }
      ],
      "source": [
        "from google.colab import drive\n",
        "drive.mount('/content/drive')"
      ]
    },
    {
      "cell_type": "code",
      "source": [
        "import os\n",
        "import re\n",
        "import numpy as np\n",
        "import librosa\n",
        "from pathlib import Path"
      ],
      "metadata": {
        "id": "4E62Pyqz57vS"
      },
      "execution_count": null,
      "outputs": []
    },
    {
      "cell_type": "code",
      "source": [
        "# wav 경로\n",
        "drive_path = '/content/drive/MyDrive/project/for_test/spider.wav'"
      ],
      "metadata": {
        "id": "hydY9Hy457xm"
      },
      "execution_count": null,
      "outputs": []
    },
    {
      "cell_type": "code",
      "source": [
        "# 결과를 저장할 CSV 파일\n",
        "output_csv_path = '/content/drive/My Drive/Colab Notebooks/contents/test_wav.csv'\n"
      ],
      "metadata": {
        "id": "HfjugMF657zx"
      },
      "execution_count": null,
      "outputs": []
    },
    {
      "cell_type": "code",
      "source": [
        "# CSV 파일이 이미 존재하면 삭제\n",
        "if os.path.exists(output_csv_path):\n",
        "    os.remove(output_csv_path)"
      ],
      "metadata": {
        "id": "TxSOFl8O_Ql-"
      },
      "execution_count": null,
      "outputs": []
    },
    {
      "cell_type": "code",
      "source": [
        "# 모든 .wav 파일에 대해 처리\n",
        "for wav_file in Path(drive_path).rglob('*.wav'):\n",
        "    # .wav 파일을 로드\n",
        "    y, sr = librosa.load(wav_file, sr=None)\n",
        "\n",
        "    # 크로마그램 생성\n",
        "    chromagram = librosa.feature.chroma_stft(y=y, sr=sr)\n",
        "\n",
        "    # 데이터의 범위 확인\n",
        "    min_value = np.min(chromagram)\n",
        "    max_value = np.max(chromagram)\n",
        "    #정규화\n",
        "    normalized_chromagram = (chromagram - min_value) / (max_value - min_value) * 255\n",
        "\n",
        "    # 반올림 후 정수로 변환\n",
        "    rounded_normalized_chromagram = np.around(normalized_chromagram).astype(int)\n",
        "\n",
        "    # 크로마그램 이름 (파일 이름에서 숫자 부분 추출)\n",
        "    chromagram_name = str(wav_file.stem)  # 문자열로 변환\n",
        "\n",
        "    # 크로마그램 이름과 데이터를 행으로 저장\n",
        "    data_to_save = np.concatenate(([chromagram_name], rounded_normalized_chromagram.flatten().astype(str)))\n",
        "\n",
        "    # CSV 파일로 저장\n",
        "    with open(output_csv_path, 'a') as f:\n",
        "        np.savetxt(f, [data_to_save], delimiter=',', fmt='%s', newline='')\n",
        "        f.write('\\n')  # 새로운 행을 추가"
      ],
      "metadata": {
        "id": "Q5C-tU0Y5712",
        "colab": {
          "base_uri": "https://localhost:8080/"
        },
        "outputId": "4366af7f-b147-4e35-c4ae-d3e0f62aca48"
      },
      "execution_count": null,
      "outputs": [
        {
          "output_type": "stream",
          "name": "stderr",
          "text": [
            "<ipython-input-20-85bfc77ed180>:4: UserWarning: PySoundFile failed. Trying audioread instead.\n",
            "  y, sr = librosa.load(wav_file, sr=None)\n",
            "/usr/local/lib/python3.10/dist-packages/librosa/core/audio.py:183: FutureWarning: librosa.core.audio.__audioread_load\n",
            "\tDeprecated as of librosa version 0.10.0.\n",
            "\tIt will be removed in librosa version 1.0.\n",
            "  y, sr_native = __audioread_load(path, offset, duration, dtype)\n",
            "<ipython-input-20-85bfc77ed180>:4: UserWarning: PySoundFile failed. Trying audioread instead.\n",
            "  y, sr = librosa.load(wav_file, sr=None)\n",
            "/usr/local/lib/python3.10/dist-packages/librosa/core/audio.py:183: FutureWarning: librosa.core.audio.__audioread_load\n",
            "\tDeprecated as of librosa version 0.10.0.\n",
            "\tIt will be removed in librosa version 1.0.\n",
            "  y, sr_native = __audioread_load(path, offset, duration, dtype)\n",
            "<ipython-input-20-85bfc77ed180>:4: UserWarning: PySoundFile failed. Trying audioread instead.\n",
            "  y, sr = librosa.load(wav_file, sr=None)\n",
            "/usr/local/lib/python3.10/dist-packages/librosa/core/audio.py:183: FutureWarning: librosa.core.audio.__audioread_load\n",
            "\tDeprecated as of librosa version 0.10.0.\n",
            "\tIt will be removed in librosa version 1.0.\n",
            "  y, sr_native = __audioread_load(path, offset, duration, dtype)\n",
            "<ipython-input-20-85bfc77ed180>:4: UserWarning: PySoundFile failed. Trying audioread instead.\n",
            "  y, sr = librosa.load(wav_file, sr=None)\n",
            "/usr/local/lib/python3.10/dist-packages/librosa/core/audio.py:183: FutureWarning: librosa.core.audio.__audioread_load\n",
            "\tDeprecated as of librosa version 0.10.0.\n",
            "\tIt will be removed in librosa version 1.0.\n",
            "  y, sr_native = __audioread_load(path, offset, duration, dtype)\n",
            "<ipython-input-20-85bfc77ed180>:4: UserWarning: PySoundFile failed. Trying audioread instead.\n",
            "  y, sr = librosa.load(wav_file, sr=None)\n",
            "/usr/local/lib/python3.10/dist-packages/librosa/core/audio.py:183: FutureWarning: librosa.core.audio.__audioread_load\n",
            "\tDeprecated as of librosa version 0.10.0.\n",
            "\tIt will be removed in librosa version 1.0.\n",
            "  y, sr_native = __audioread_load(path, offset, duration, dtype)\n",
            "<ipython-input-20-85bfc77ed180>:4: UserWarning: PySoundFile failed. Trying audioread instead.\n",
            "  y, sr = librosa.load(wav_file, sr=None)\n",
            "/usr/local/lib/python3.10/dist-packages/librosa/core/audio.py:183: FutureWarning: librosa.core.audio.__audioread_load\n",
            "\tDeprecated as of librosa version 0.10.0.\n",
            "\tIt will be removed in librosa version 1.0.\n",
            "  y, sr_native = __audioread_load(path, offset, duration, dtype)\n",
            "<ipython-input-20-85bfc77ed180>:4: UserWarning: PySoundFile failed. Trying audioread instead.\n",
            "  y, sr = librosa.load(wav_file, sr=None)\n",
            "/usr/local/lib/python3.10/dist-packages/librosa/core/audio.py:183: FutureWarning: librosa.core.audio.__audioread_load\n",
            "\tDeprecated as of librosa version 0.10.0.\n",
            "\tIt will be removed in librosa version 1.0.\n",
            "  y, sr_native = __audioread_load(path, offset, duration, dtype)\n"
          ]
        }
      ]
    },
    {
      "cell_type": "code",
      "source": [],
      "metadata": {
        "id": "t0xirdFJ58FI"
      },
      "execution_count": null,
      "outputs": []
    },
    {
      "cell_type": "code",
      "source": [],
      "metadata": {
        "id": "2c_eqoPx58Hl"
      },
      "execution_count": null,
      "outputs": []
    },
    {
      "cell_type": "code",
      "source": [],
      "metadata": {
        "id": "4G90_3Tl58J6"
      },
      "execution_count": null,
      "outputs": []
    }
  ]
}